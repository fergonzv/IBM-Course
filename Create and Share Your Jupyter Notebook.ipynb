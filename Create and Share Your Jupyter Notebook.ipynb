{
 "cells": [
  {
   "cell_type": "markdown",
   "id": "b67b6d26-c997-41bc-a0e3-514d3b902761",
   "metadata": {},
   "source": [
    "# My Jupyter Notebook on IBM Watson Studio"
   ]
  },
  {
   "cell_type": "markdown",
   "id": "9db8625a-778b-4b27-9a90-b3b902ccef8c",
   "metadata": {},
   "source": [
    "**Fernanda Gonzalez**\n",
    "\n",
    "Quantitative Analyst"
   ]
  },
  {
   "cell_type": "markdown",
   "id": "50effed5-db9d-41cc-b7cc-618c89f02fcb",
   "metadata": {},
   "source": [
    "I am interested in data science because I am currently studying finance and all of this knowledge can be applied to my career and help me make my daily tasks easier. By studying an analytical career, I need to know about the best ways to transform the data that we manage, using programming such as R and SQL, something that is covered in this course.*"
   ]
  },
  {
   "cell_type": "markdown",
   "id": "f33f42b4-d541-4efb-a022-3ad87cb648a3",
   "metadata": {},
   "source": [
    "### The following code classifies an input number according to its size"
   ]
  },
  {
   "cell_type": "code",
   "execution_count": 4,
   "id": "9009066d-4727-44cf-ba13-8ade9b3ffb5e",
   "metadata": {},
   "outputs": [
    {
     "name": "stdin",
     "output_type": "stream",
     "text": [
      "Type a number:  5\n"
     ]
    },
    {
     "name": "stdout",
     "output_type": "stream",
     "text": [
      "Small\n"
     ]
    }
   ],
   "source": [
    "x= int(input('Type a number: '))\n",
    "if x<10 : \n",
    "  print('Small')\n",
    "else:\n",
    "  print(\"Big\")"
   ]
  },
  {
   "cell_type": "markdown",
   "id": "c669acfc-52ea-4ac1-bff9-3005e965a4a9",
   "metadata": {},
   "source": [
    "The following line is a Horizontal Rule\n",
    "\n",
    "---\n",
    "\n",
    "| Tables        | Are           | Cool  |\n",
    "| ------------- |:-------------:| -----:|\n",
    "| Hello         | Markdown      | :)    |\n",
    "| Hi            | centered      |   :(  |\n",
    "| zebra stripes | are cool      |  :)   |\n",
    "\n",
    "\n",
    "<a href=\"https://dataplatform.cloud.ibm.com/gallery\">IBM Cloud Gallery</a> "
   ]
  },
  {
   "cell_type": "code",
   "execution_count": null,
   "id": "99f4dcf6-e8c2-4d14-a529-26631ca17265",
   "metadata": {},
   "outputs": [],
   "source": []
  }
 ],
 "metadata": {
  "kernelspec": {
   "display_name": "Python 3 (ipykernel)",
   "language": "python",
   "name": "python3"
  },
  "language_info": {
   "codemirror_mode": {
    "name": "ipython",
    "version": 3
   },
   "file_extension": ".py",
   "mimetype": "text/x-python",
   "name": "python",
   "nbconvert_exporter": "python",
   "pygments_lexer": "ipython3",
   "version": "3.9.7"
  }
 },
 "nbformat": 4,
 "nbformat_minor": 5
}
